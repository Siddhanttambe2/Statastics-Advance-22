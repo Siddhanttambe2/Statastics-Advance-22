{
  "nbformat": 4,
  "nbformat_minor": 0,
  "metadata": {
    "colab": {
      "provenance": [],
      "authorship_tag": "ABX9TyOrUurwgA/tAqx+fq+lWyiH",
      "include_colab_link": true
    },
    "kernelspec": {
      "name": "python3",
      "display_name": "Python 3"
    },
    "language_info": {
      "name": "python"
    }
  },
  "cells": [
    {
      "cell_type": "markdown",
      "metadata": {
        "id": "view-in-github",
        "colab_type": "text"
      },
      "source": [
        "<a href=\"https://colab.research.google.com/github/Siddhanttambe2/Statastics-Advance-22/blob/main/Statastics_Advance_22.ipynb\" target=\"_parent\"><img src=\"https://colab.research.google.com/assets/colab-badge.svg\" alt=\"Open In Colab\"/></a>"
      ]
    },
    {
      "cell_type": "markdown",
      "source": [
        "\n",
        "\n",
        "Q1. Generate a list of 100 integers containing values between 90 to 130 and store it in the variable `int_list`.\n",
        "After generating the list, find the following:\n",
        "\n",
        "  \n",
        "\n",
        "  (i) Write a Python function to calculate the mean of a given list of numbers.\n",
        "\n",
        "Create a function to find the median of a list of numbers.\n",
        "\n",
        "  \n",
        "\n",
        "  (ii) Develop a program to compute the mode of a list of integers.\n",
        "\n",
        "  \n",
        "\n",
        "  (iii) Implement a function to calculate the weighted mean of a list of values and their corresponding weights.\n",
        "\n",
        "  \n",
        "\n",
        "  (iv) Write a Python function to find the geometric mean of a list of positive numbers.\n",
        "\n",
        "  \n",
        "\n",
        "  (v) Create a program to calculate the harmonic mean of a list of values.\n",
        "\n",
        "  \n",
        "\n",
        "  (vi) Build a function to determine the midrange of a list of numbers (average of the minimum and maximum).\n",
        "\n",
        "  \n",
        "\n",
        "  (vii) Implement a Python program to find the trimmed mean of a list, excluding a certain percentage of\n",
        "outliers"
      ],
      "metadata": {
        "id": "KOanr3N-ZuMB"
      }
    },
    {
      "cell_type": "code",
      "execution_count": 1,
      "metadata": {
        "colab": {
          "base_uri": "https://localhost:8080/"
        },
        "id": "uBLgZtOwZsvU",
        "outputId": "5157dea1-b4cb-4424-f5b6-79bfd9253198"
      },
      "outputs": [
        {
          "output_type": "stream",
          "name": "stdout",
          "text": [
            "Generated List: [98, 130, 97, 126, 129, 106, 124, 106, 108, 90, 129, 124, 106, 127, 121, 122, 94, 129, 106, 130, 130, 125, 122, 96, 119, 97, 99, 103, 105, 111, 125, 107, 96, 104, 127, 107, 112, 91, 124, 111, 99, 103, 107, 114, 110, 103, 127, 108, 112, 95, 111, 104, 106, 120, 125, 108, 113, 100, 94, 122, 123, 117, 110, 120, 125, 90, 130, 123, 105, 99, 102, 115, 90, 114, 107, 118, 130, 111, 94, 96, 107, 96, 97, 105, 91, 126, 125, 101, 106, 115, 119, 91, 104, 103, 109, 101, 126, 102, 99, 116]\n",
            "Mean: 110.52\n",
            "Median: 108.0\n",
            "Mode: [106]\n",
            "Weighted Mean (Example): 110.52\n",
            "Geometric Mean: 109.88468293018352\n",
            "Harmonic Mean: 109.25092766755517\n",
            "Midrange: 110.0\n",
            "Trimmed Mean (10% Trim): 110.5125\n"
          ]
        }
      ],
      "source": [
        "import random\n",
        "from statistics import mean, median, mode\n",
        "from scipy.stats import gmean, hmean, trim_mean\n",
        "\n",
        "# Generate a list of 100 integers between 90 to 130\n",
        "int_list = [random.randint(90, 130) for _ in range(100)]\n",
        "\n",
        "# (i) Functions to calculate mean and median\n",
        "def calculate_mean(numbers):\n",
        "    return sum(numbers) / len(numbers)\n",
        "\n",
        "def calculate_median(numbers):\n",
        "    sorted_numbers = sorted(numbers)\n",
        "    n = len(sorted_numbers)\n",
        "    if n % 2 == 0:\n",
        "        return (sorted_numbers[n//2 - 1] + sorted_numbers[n//2]) / 2\n",
        "    else:\n",
        "        return sorted_numbers[n//2]\n",
        "\n",
        "# (ii) Compute the mode of a list\n",
        "def calculate_mode(numbers):\n",
        "    frequency = {}\n",
        "    for number in numbers:\n",
        "        frequency[number] = frequency.get(number, 0) + 1\n",
        "    max_frequency = max(frequency.values())\n",
        "    modes = [k for k, v in frequency.items() if v == max_frequency]\n",
        "    return modes\n",
        "\n",
        "# (iii) Calculate the weighted mean\n",
        "def calculate_weighted_mean(values, weights):\n",
        "    weighted_sum = sum(value * weight for value, weight in zip(values, weights))\n",
        "    total_weights = sum(weights)\n",
        "    return weighted_sum / total_weights\n",
        "\n",
        "# (iv) Calculate the geometric mean\n",
        "def calculate_geometric_mean(numbers):\n",
        "    return gmean(numbers)\n",
        "\n",
        "# (v) Calculate the harmonic mean\n",
        "def calculate_harmonic_mean(numbers):\n",
        "    return hmean(numbers)\n",
        "\n",
        "# (vi) Calculate the midrange\n",
        "def calculate_midrange(numbers):\n",
        "    return (max(numbers) + min(numbers)) / 2\n",
        "\n",
        "# (vii) Find the trimmed mean\n",
        "def calculate_trimmed_mean(numbers, trim_percent):\n",
        "    return trim_mean(numbers, proportiontocut=trim_percent/100)\n",
        "\n",
        "#result\n",
        "print(\"Generated List:\", int_list)\n",
        "print(\"Mean:\", calculate_mean(int_list))\n",
        "print(\"Median:\", calculate_median(int_list))\n",
        "print(\"Mode:\", calculate_mode(int_list))\n",
        "print(\"Weighted Mean (Example):\", calculate_weighted_mean(int_list, [1] * len(int_list))) # Example weights\n",
        "print(\"Geometric Mean:\", calculate_geometric_mean(int_list))\n",
        "print(\"Harmonic Mean:\", calculate_harmonic_mean(int_list))\n",
        "print(\"Midrange:\", calculate_midrange(int_list))\n",
        "print(\"Trimmed Mean (10% Trim):\", calculate_trimmed_mean(int_list, 10))\n"
      ]
    },
    {
      "cell_type": "markdown",
      "source": [
        " 2. Generate a list of 500 integers containing values between 200 to 300 and store it in the variable `int_list2`.\n",
        "After generating the list, find the following:\n",
        "  (i) Compare the given list of visualization for the given data:\n",
        "\n",
        "    \n",
        "\n",
        "    1. Frequency & Gaussian distribution\n",
        "\n",
        "    2. Frequency smoothened KDE plot\n",
        "\n",
        "    3. Gaussian distribution & smoothened KDE plot\n",
        "\n",
        "\n",
        "  (ii) Write a Python function to calculate the range of a given list of numbers.\n",
        "\n",
        "\n",
        "  (iii) Create a program to find the variance and standard deviation of a list of numbers.\n",
        "\n",
        "\n",
        "  (iv) Implement a function to compute the interquartile range (IQR) of a list of values.\n",
        "\n",
        "\n",
        "  (v) Build a program to calculate the coefficient of variation for a dataset.\n",
        "\n",
        "  \n",
        "\n",
        "  (vi) Write a Python function to find the mean absolute deviation (MAD) of a list of numbers.\n",
        "\n",
        "\n",
        "  (vii) Create a program to calculate the quartile deviation of a list of values.\n",
        "\n",
        "  \n",
        "\n",
        "  (viii) Implement a function to find the range-based coefficient of dispersion for a dataset"
      ],
      "metadata": {
        "id": "J8QHjWsjeDJ7"
      }
    },
    {
      "cell_type": "code",
      "source": [
        "import numpy as np\n",
        "import seaborn as sns\n",
        "import matplotlib.pyplot as plt\n",
        "from scipy.stats import norm\n",
        "\n",
        "# (i) Generate a list of 500 integers between 200 to 300\n",
        "np.random.seed(0)\n",
        "int_list2 = np.random.randint(200, 301, 500)\n",
        "\n",
        "# (i1) Frequency & Gaussian distribution\n",
        "def plot_frequency_and_gaussian(data):\n",
        "    sns.histplot(data, kde=False, bins=20, color='blue', label='Frequency', stat=\"density\")\n",
        "    x = np.linspace(min(data), max(data), 100)\n",
        "    plt.plot(x, norm.pdf(x, np.mean(data), np.std(data)), label=\"Gaussian Distribution\", color=\"red\")\n",
        "    plt.legend()\n",
        "    plt.title(\"Frequency & Gaussian Distribution\")\n",
        "    plt.show()\n",
        "\n",
        "# (i2) Frequency smoothened KDE plot\n",
        "def plot_frequency_and_kde(data):\n",
        "    sns.histplot(data, kde=True, bins=20, stat=\"density\", color=\"blue\")\n",
        "    plt.title(\"Frequency Smoothened KDE Plot\")\n",
        "    plt.show()\n",
        "\n",
        "# (i3) Gaussian distribution & smoothened KDE plot\n",
        "def plot_gaussian_and_kde(data):\n",
        "    sns.kdeplot(data, label=\"KDE\", color=\"blue\")\n",
        "    x = np.linspace(min(data), max(data), 100)\n",
        "    plt.plot(x, norm.pdf(x, np.mean(data), np.std(data)), label=\"Gaussian Distribution\", color=\"red\")\n",
        "    plt.legend()\n",
        "    plt.title(\"Gaussian Distribution & Smoothened KDE Plot\")\n",
        "    plt.show()\n",
        "\n",
        "# (ii) Function to calculate the range\n",
        "def calculate_range(data):\n",
        "    return np.max(data) - np.min(data)\n",
        "\n",
        "# (iii) Program to find variance and standard deviation\n",
        "def calculate_variance_and_std(data):\n",
        "    return np.var(data), np.std(data)\n",
        "\n",
        "# (iv) Function to compute the interquartile range (IQR)\n",
        "def calculate_iqr(data):\n",
        "    q1 = np.percentile(data, 25)\n",
        "    q3 = np.percentile(data, 75)\n",
        "    return q3 - q1\n",
        "\n",
        "# (v) Program to calculate the coefficient of variation\n",
        "def calculate_coefficient_of_variation(data):\n",
        "    return (np.std(data) / np.mean(data)) * 100\n",
        "\n",
        "# (vi) Function to find the mean absolute deviation (MAD)\n",
        "def calculate_mad(data):\n",
        "    mean = np.mean(data)\n",
        "    return np.mean(np.abs(data - mean))\n",
        "\n",
        "# (vii) Program to calculate the quartile deviation\n",
        "def calculate_quartile_deviation(data):\n",
        "    return calculate_iqr(data) / 2\n",
        "\n",
        "# (viii) Function to find the range-based coefficient of dispersion\n",
        "def calculate_range_based_dispersion(data):\n",
        "    data_range = calculate_range(data)\n",
        "    midrange = (np.max(data) + np.min(data)) / 2\n",
        "    return data_range / midrange\n",
        "\n",
        "#plot\n",
        "plot_frequency_and_gaussian(int_list2)\n",
        "plot_frequency_and_kde(int_list2)\n",
        "plot_gaussian_and_kde(int_list2)\n",
        "\n",
        "# result\n",
        "print(\"Range:\", calculate_range(int_list2))\n",
        "variance, std_dev = calculate_variance_and_std(int_list2)\n",
        "print(\"Variance:\", variance)\n",
        "print(\"Standard Deviation:\", std_dev)\n",
        "print(\"Interquartile Range (IQR):\", calculate_iqr(int_list2))\n",
        "print(\"Coefficient of Variation (%):\", calculate_coefficient_of_variation(int_list2))\n",
        "print(\"Mean Absolute Deviation (MAD):\", calculate_mad(int_list2))\n",
        "print(\"Quartile Deviation:\", calculate_quartile_deviation(int_list2))\n",
        "print(\"Range-Based Coefficient of Dispersion:\", calculate_range_based_dispersion(int_list2))\n"
      ],
      "metadata": {
        "colab": {
          "base_uri": "https://localhost:8080/",
          "height": 1000
        },
        "id": "oWWDZ4U0d7IQ",
        "outputId": "352630a3-7455-4ed3-e573-7b528d6d6fce"
      },
      "execution_count": 6,
      "outputs": [
        {
          "output_type": "display_data",
          "data": {
            "text/plain": [
              "<Figure size 640x480 with 1 Axes>"
            ],
            "image/png": "[encoded data removed]"
          },
          "metadata": {}
        },
        {
          "output_type": "display_data",
          "data": {
            "text/plain": [
              "<Figure size 640x480 with 1 Axes>"
            ],
            "image/png": "[encoded data removed]"
          },
          "metadata": {}
        },
        {
          "output_type": "display_data",
          "data": {
            "text/plain": [
              "<Figure size 640x480 with 1 Axes>"
            ],
            "image/png": "[encoded data removed]"
          },
          "metadata": {}
        },
        {
          "output_type": "stream",
          "name": "stdout",
          "text": [
            "Range: 100\n",
            "Variance: 826.4711359999999\n",
            "Standard Deviation: 28.74841101695883\n",
            "Interquartile Range (IQR): 49.0\n",
            "Coefficient of Variation (%): 11.536650862370713\n",
            "Mean Absolute Deviation (MAD): 24.841376\n",
            "Quartile Deviation: 24.5\n",
            "Range-Based Coefficient of Dispersion: 0.4\n"
          ]
        }
      ]
    },
    {
      "cell_type": "markdown",
      "source": [
        "3)  Write a Python class representing a discrete random variable with methods to calculate its expected\n",
        "value and variance."
      ],
      "metadata": {
        "id": "lrIJmaiie-wO"
      }
    },
    {
      "cell_type": "code",
      "source": [
        "class DiscreteRandomVariable:\n",
        "    def __init__(self, pmf):\n",
        "\n",
        "        self.pmf = pmf\n",
        "\n",
        "    def expected_value(self):\n",
        "\n",
        "        expected_value = 0\n",
        "        for x, p in self.pmf.items():\n",
        "            expected_value += x * p\n",
        "        return expected_value\n",
        "\n",
        "    def variance(self):\n",
        "\n",
        "        expected_value = self.expected_value()\n",
        "        variance = 0\n",
        "        for x, p in self.pmf.items():\n",
        "            variance += p * (x - expected_value)**2\n",
        "        return variance\n",
        "\n",
        "# usage:\n",
        "pmf = {1: 0.2, 2: 0.3, 3: 0.5}\n",
        "rv = DiscreteRandomVariable(pmf)\n",
        "\n",
        "print(\"Expected value:\", rv.expected_value())\n",
        "print(\"Variance:\", rv.variance())"
      ],
      "metadata": {
        "colab": {
          "base_uri": "https://localhost:8080/"
        },
        "id": "5n8QyDRfec0F",
        "outputId": "31392132-0b07-4f41-b618-081fba905ff0"
      },
      "execution_count": 9,
      "outputs": [
        {
          "output_type": "stream",
          "name": "stdout",
          "text": [
            "Expected value: 2.3\n",
            "Variance: 0.61\n"
          ]
        }
      ]
    },
    {
      "cell_type": "markdown",
      "source": [
        "4) Implement a program to simulate the rolling of a fair six-sided die and calculate the expected value and\n",
        "variance of the outcomes."
      ],
      "metadata": {
        "id": "OtI1MYT5f7cM"
      }
    },
    {
      "cell_type": "code",
      "source": [
        "import numpy as np\n",
        "\n",
        "class FairDieSimulation:\n",
        "    def __init__(self, sides=6):\n",
        "        \"\"\"\n",
        "        Initialize the die simulation.\n",
        "        :param sides: Number of sides on the die (default is 6).\n",
        "        \"\"\"\n",
        "        self.sides = sides\n",
        "        self.values = np.arange(1, sides + 1)\n",
        "        self.probabilities = np.full(sides, 1 / sides)  # Equal probability for each side\n",
        "\n",
        "    def roll_die(self, rolls=1000):\n",
        "        \"\"\"\n",
        "        Simulate rolling the die.\n",
        "        :param rolls: Number of times the die is rolled.\n",
        "        :return: List of outcomes.\n",
        "        \"\"\"\n",
        "        return np.random.choice(self.values, size=rolls, p=self.probabilities)\n",
        "\n",
        "    def calculate_expected_value(self):\n",
        "        \"\"\"\n",
        "        Calculate the expected value of the die outcomes.\n",
        "        :return: Expected value (E[X]).\n",
        "        \"\"\"\n",
        "        return np.sum(self.values * self.probabilities)\n",
        "\n",
        "    def calculate_variance(self):\n",
        "        \"\"\"\n",
        "        Calculate the variance of the die outcomes.\n",
        "        :return: Variance (Var[X]).\n",
        "        \"\"\"\n",
        "        mean = self.calculate_expected_value()\n",
        "        return np.sum(self.probabilities * (self.values - mean) ** 2)\n",
        "\n",
        "# Use\n",
        "die_simulation = FairDieSimulation()\n",
        "rolls = die_simulation.roll_die(1000)\n",
        "\n",
        "# expected value and variance\n",
        "expected_value = die_simulation.calculate_expected_value()\n",
        "variance = die_simulation.calculate_variance()\n",
        "\n",
        "# Results\n",
        "print(\"Simulated Rolls:\", rolls[:10], \"...\")  # Display first 10 rolls\n",
        "print(\"Expected Value (E[X]):\", expected_value)\n",
        "print(\"Variance (Var[X]):\", variance)\n"
      ],
      "metadata": {
        "colab": {
          "base_uri": "https://localhost:8080/"
        },
        "id": "5WvAuQnWfi3S",
        "outputId": "51a7630e-99b2-4774-91b0-da1e87789888"
      },
      "execution_count": 10,
      "outputs": [
        {
          "output_type": "stream",
          "name": "stdout",
          "text": [
            "Simulated Rolls: [6 2 5 5 3 5 5 3 1 2] ...\n",
            "Expected Value (E[X]): 3.5\n",
            "Variance (Var[X]): 2.9166666666666665\n"
          ]
        }
      ]
    },
    {
      "cell_type": "markdown",
      "source": [
        "5) Create a Python function to generate random samples from a given probability distribution (e.g.,\n",
        "binomial, Poisson) and calculate their mean and variance."
      ],
      "metadata": {
        "id": "X3byZ2OfmptR"
      }
    },
    {
      "cell_type": "code",
      "source": [
        "import numpy as np\n",
        "\n",
        "def generate_samples(distribution, params, sample_size):\n",
        "\n",
        "\n",
        "    if distribution == 'binomial':\n",
        "        samples = np.random.binomial(n=params[0], p=params[1], size=sample_size)\n",
        "    elif distribution == 'poisson':\n",
        "        samples = np.random.poisson(lam=params[0], size=sample_size)\n",
        "    else:\n",
        "        raise ValueError(\"Invalid distribution name\")\n",
        "\n",
        "    sample_mean = np.mean(samples)\n",
        "    sample_variance = np.var(samples)\n",
        "\n",
        "    return samples, sample_mean, sample_variance\n",
        "\n",
        "# Example usage:\n",
        "# Generate 1000 samples from a binomial distribution with n=10, p=0.5\n",
        "samples, mean, variance = generate_samples('binomial', (10, 0.5), 1000)\n",
        "print(\"Binomial samples:\", samples)\n",
        "print(\"Binomial sample mean:\", mean)\n",
        "print(\"Binomial sample variance:\", variance)\n",
        "\n",
        "# Generate 1000 samples from a Poisson distribution with lambda=5\n",
        "samples, mean, variance = generate_samples('poisson', (5,), 1000)\n",
        "print(\"Poisson samples:\", samples)\n",
        "print(\"Poisson sample mean:\", mean)\n",
        "print(\"Poisson sample variance:\", variance)"
      ],
      "metadata": {
        "colab": {
          "base_uri": "https://localhost:8080/"
        },
        "id": "iKN_SD75gPcw",
        "outputId": "3769ba63-c7bb-45a1-af01-2b77467fc4d2"
      },
      "execution_count": 11,
      "outputs": [
        {
          "output_type": "stream",
          "name": "stdout",
          "text": [
            "Binomial samples: [ 6  5  4  4  3  6  6  5  5  4  3  8  7  4  5  6  5  4  4  6  3  3  5  4\n",
            "  4  5  5  7  5  4  2  3  5  5  6  5  6  0  2  6  5  6  5  5  5  6  3  3\n",
            "  6  3  8  6  5  7  7  6  6  6  5  6  5  6  6  7  7  2  5  7  3  2  5  5\n",
            "  5  5  6  5  5  6  5  3  6  4  7  6  6  4  3  6  4  5  7  2  6  7  5  3\n",
            "  5  3  3  8  4  4  6  5  7 10  3  3  7  4  2  7  3  8  6  5  3  6  5  3\n",
            "  6  6  8  5  5  7  4  4  7  4  6  4  4  4  5  4  6  3  5  5  4  2  5  3\n",
            "  7  8  4  3  4  4  1  7  6  4  6  8  6  6  5  4  5  3  2  5  3  3  5  4\n",
            "  4  5  5  6  5  4  6  5  8  4  6  8  7  4  6  5  6  3  8  3  6  4  4  5\n",
            "  8  3  2  6  6  5  8  6  5  7  1  4  4  5  3  7  6  6  3  5  3  4  7  6\n",
            "  6  6  5  3  7  6  6  6  6  5  7  5  4  5  6  4  3  5  5  6  3  6  3  6\n",
            "  4  7  5  4  6  8  6  3  4  5  5  2  5  5  5  4  8  6  6  5  4  4  4  5\n",
            "  7  2  6  6  5  6  5  4  4  6  2  4  4  5  5  6  3  4  5  5  4  4  2  6\n",
            "  2  4  4  5  8  5  5  5  3  6  6  6  3  5  5  5  3  6  1  3  6  4  7  5\n",
            "  6  4  6  7  5  2  4  5  7  4  2  5  5  5  8  3  8  2  5  8  5  3  8  5\n",
            "  6  6  5  8  6  6  2  5  7  4  4  7  8  4  6  7  3  5  6  6  3  7  5  8\n",
            "  5  6  8  6  5  5  5  2  5  5  3  2  1  4  4  5  7  2  5  6  3  5  4  6\n",
            "  4  3  3  5  5  4  5  6  4  1  7  7  5  7  6  4  5  5  3  5  7  5  5  4\n",
            "  4  5  5  8  1  7  7  4  2  7  3  5  5  4  5  4  5  2  5  3  8  6  1  2\n",
            "  4  6  3  6  5  5  4  2  5  5  2  6  4  5  5  6  5  4  4  2  4  5  4  6\n",
            "  7  4  6  6  5  6  4  4  5  5  5  5  7  6  7  4  8  6  6  5  7  3  6  6\n",
            "  7  7  5  8  6  7  2  8  4  6  5  5  5  6  5  5  5  4  6  8  7  4  8  7\n",
            "  8  8  5  6  4  4  5  4  7  3  4  4  3  5  7  5  4  7  7  5  6  3  4  5\n",
            "  5  7  6  1  3  5  5  5  3  6  7  4  5  9  6  3  6  5  3  5  6  3  4  3\n",
            "  3  2  4  5  6  6  5  8  5  7  4  5  5  5  7  6  7  6  8  3  6  6  2  5\n",
            "  4  3  4  3  1  7  3  5  3  6  6  6  6  7  4  4  2  8  4  4  3  5  6  4\n",
            "  6  6  7  4  5  7  4  3  5  7  6  2  6  5  6  6  5  6  6  6  3  6  5  4\n",
            "  4  5  8  4  7  6  5  4  3  3  3  4  7  4  4  7  5  5  7  3  5  3  5  5\n",
            "  5  4  7  4  6  5  6  6  6  6  6  6  6  5  4  8  4  8  3  6  4  7  3  7\n",
            "  5  7  6  5  5  5  3  6  4  7  3  8  3  3  3  3  5  4  7  4  7  3  4  7\n",
            "  3  4  4  5  5  4  5  5  8  6  4  6  8  3  3  3  4  6  4  3  6  6  5  6\n",
            "  5  6  5  5  6  5  3  2  5  5  6  6  4  6  6  4  5  4  6  4  5  7  8  8\n",
            "  6  3  5  8  4  3  4  5  2  6  5  4  4  6  2  6  6  3  7  4  3  3  1  5\n",
            "  4  3  7  5  4  5  6  3  7  5  5  5  4  4  5  4  4  5  7  5  7  6  7  4\n",
            "  5  4  6  5  5  3  4  6  5  5  6  4  4  8  3  3  6  6  4  3  4  3  8  6\n",
            "  5  7  5  6  5  6  8  5  3  5  6  0  8  6  4  5  4  5  6  6  4  2  5  4\n",
            "  5  8  8  3  7  8  4  6  4  5  5  4  5  6  6  6  3  8  3  5  3  5  7  6\n",
            "  7  6  5  5  4  8  4  5  2  5  3  4  6  5  7  4  5  7  3  6  4  6  5  6\n",
            "  6  5  5  6  5  5  5  8  4  5  5  5  6  4  5  7  4  3  4  5  5  5  6  7\n",
            "  4  4  5  3  7  7 10  4  3  3  6  7  4  8  6  4  7  6  5  5  8  4  6  6\n",
            "  5  5  6  5  6  7  5  8  4  3  5  8  6  4  8  6  6  2  6  5  6  6  4  7\n",
            "  5  5  4  6  8  6  5  8  6  5  4  4  7  6  8  3  4  5  8  5  6  4  4  4\n",
            "  3  7  5  4  4  4  4  6  4  6  5  3  6  7  8  8]\n",
            "Binomial sample mean: 5.028\n",
            "Binomial sample variance: 2.4772160000000003\n",
            "Poisson samples: [ 3  5  5  5  4  7  5  5 12  4  1  6  5  5  4  5  2  4  3  6  6 15  5  6\n",
            "  1  6  2  2  2  4  6  3  4  6  4  5  5  6  8  7  4  7  0  5  4  6  6  3\n",
            "  4  9  4  5  1  4  2  7  6  2  5  5  5  5  4  7  2  2  4  3  6  7  9  4\n",
            "  6  5  4  9  3  7  4  3  9  3  4  2  9  7  9  6  6  4  5  5  5  4  5  3\n",
            "  3  4  9  9  7  5  5  7  6 11  3  5  3  1  6  4  9  7  5  2  5  1  5  4\n",
            "  6  5  4 10  6  1  2 12  5  3  3  5  3  7  3  4  7  5  3  4  4  9  3  6\n",
            "  5  1  8  8  6  5  3  2  4  2  8  5  7  5  3  2  6  2  7  4  7  3  6  6\n",
            "  3  4  5  7  4  4  5  0  7  1  8  5  7  6  8  7  4  2  2  4  3  6  5  5\n",
            "  5 10  6  5  5  6  6  6  7  6  4  4  6  5  4  7  6  6  2  4  6  6  9  9\n",
            "  3  5  5  1  5  6  3  5  7  8  4  7  5  3  7  7  3  6  4  6  4  9  3  3\n",
            "  6  6  8  7  1  7  6  5  7  4  6 11  6  4  2  5  5  9  2  6  3  9  8  0\n",
            " 10  5  5  5  4  3  7  5  6  3  6  2 10  3  4  6  7  7  5  2  8  1  7  6\n",
            "  5  5  2  5  6  4  7  5  5  8  7  1  3  4  5  3  4  9  2 10  6  5  6  3\n",
            "  5  4  4  1  4  6  1  5  7  2  5  5  3  5  4  3  9  4  4  7  3  6  8  5\n",
            "  9  7  5  4  2  7  2  2  2  8  7  5  4  6  4  7  4  1  8  2  4  6  5  6\n",
            "  3  4  5  7  7  8  6  4  5  0  2  8  8  5  5  6  5  5  4  6  6  2  8  4\n",
            "  1  2  5  3  2  4  7  3  7  5  3  2  1  8  3  4  6  4  5  4  1  6  3  7\n",
            "  5  6  3  5  2  4  4  3  7  6  4  6  5  3  7  3  2  6  7  8  5  4  4  5\n",
            "  5  4  6  9  1  5  6  8  3  3  1  9  5  7  9  6  3  4  7  4  4  7  6  4\n",
            "  6  6  2  4 14 10  5  6  4  2  9  2  7  9  6 13  3  2  8  4 10 12  4  3\n",
            "  7  6  8  3  0  5  1  3  5  8  3  5  4  6  6  3  2  2  9  5  7  8  4  4\n",
            "  6  4  2  9 10  8  2  7  4  6 11 12  4  3  5  2  6  0  4  7  8  5  2  5\n",
            "  3  5  8  3  2  6  5  4  5  3  4  6  9  2  5  6  5  3  2  2  8  4  5  7\n",
            "  8  8  2 11  4  7  3  2  4  3  5  6  6  6  7  3  7  2  0  6  8  3  8  4\n",
            "  6  3  9  3  6  4  6  6  7  9  7  3  5  3  6  4  5 11  8  2  4  4  8  9\n",
            " 10  3  3  5 11  4  2  7  3  4  9  8  6 10  3  4  5  6  3  4  6  4  3  2\n",
            "  5  3  8  5  5  6  4  5  9 11  6  5  6  5  3  4  5  2  3  7  4  4  2  5\n",
            "  6  3  8  4  3  4  9  3  8  4  8  7  6  5  6  7  2  4  4  4  4  4  5  1\n",
            "  5  8  6  4  4  7  8  3  4  1  4  5  7  4  6  4  4  3  6  3  5  3  3  5\n",
            "  6  5  2  6  4  2 10  5  5  7  7  9  3  6  7  7  4  5  3  7  3  7  0  5\n",
            "  4  1  8  5  6  3  3  3  1  1  4  8  2  1  6  7  7  2  9  7  4  6  5  5\n",
            "  3  7  2  5 11  8  3  9  5  4  3 10  4  4  6  1  0  4  3  6  4  3  4  5\n",
            "  6  8  3  3  4  3  8  2  5  1  5  6 11  9  5  7  9  3  5  4  4  5  5  4\n",
            "  4  6  8  9  4  4  4  7  8  7  6  4  5  4 11  4  4  8  4  6  8  1  6  5\n",
            "  6  1 10  4  0  5  7  6  3  1  7  7  6  5  6  3  5  5  8  3  5  5  1  3\n",
            "  5  2  7  2  4  7  4  9 10  7  2  5  5  6  4  9  7  5  7  2  7  7  2  7\n",
            "  4  3  5  3  8  3  8  4  9  4 11  5  2  4  5  5  4  4  2  5  6  6  7  6\n",
            "  4  6  2  6  9  2  5  6  3 10  2  4  7  2  5  3  8  6  4  8  8  5  2  6\n",
            "  6  4  3  5  8  9 10  6  4  9  5  7  6  6  7  5  8  5  2  6  4  2  4  8\n",
            "  1  3  4  6  4  4  4  4  4  9  6  3  7  8  6  8  3  6  3  9  5  5  3  9\n",
            "  6  2  8  2  5  8  3  3 11  3  5  3  5  5  4  2  6  4  2  8  5 12  6  8\n",
            "  3  2  4  5  2  9  4  7  5  3  6  7  2  7  5  1]\n",
            "Poisson sample mean: 5.079\n",
            "Poisson sample variance: 5.488759\n"
          ]
        }
      ]
    },
    {
      "cell_type": "markdown",
      "source": [
        "6) Write a Python script to generate random numbers from a Gaussian (normal) distribution and compute\n",
        "the mean, variance, and standard deviation of the samples."
      ],
      "metadata": {
        "id": "WWj2pK98nEkU"
      }
    },
    {
      "cell_type": "code",
      "source": [
        "import numpy as np\n",
        "\n",
        "def gaussian_statistics(mean, std_dev, size=1000):\n",
        "\n",
        "    # Generate random samples from the Gaussian distribution\n",
        "    samples = np.random.normal(loc=mean, scale=std_dev, size=size)\n",
        "\n",
        "    # Compute statistics\n",
        "    computed_mean = np.mean(samples)\n",
        "    computed_variance = np.var(samples)\n",
        "    computed_std_dev = np.std(samples)\n",
        "\n",
        "    return {\n",
        "        \"samples\": samples,\n",
        "        \"computed_mean\": computed_mean,\n",
        "        \"computed_variance\": computed_variance,\n",
        "        \"computed_std_dev\": computed_std_dev\n",
        "    }\n",
        "\n",
        "# Example Usage\n",
        "mean = 50   # Mean of the Gaussian distribution\n",
        "std_dev = 10  # Standard deviation\n",
        "size = 1000  # Number of samples\n",
        "\n",
        "results = gaussian_statistics(mean, std_dev, size)\n",
        "\n",
        "# Display results\n",
        "print(\"Generated Samples (first 10):\", results[\"samples\"][:10])\n",
        "print(\"Computed Mean:\", results[\"computed_mean\"])\n",
        "print(\"Computed Variance:\", results[\"computed_variance\"])\n",
        "print(\"Computed Standard Deviation:\", results[\"computed_std_dev\"])\n"
      ],
      "metadata": {
        "colab": {
          "base_uri": "https://localhost:8080/"
        },
        "id": "rHw3M2qam9CM",
        "outputId": "9a5caa3a-870f-4be4-e548-8f590b625e06"
      },
      "execution_count": 12,
      "outputs": [
        {
          "output_type": "stream",
          "name": "stdout",
          "text": [
            "Generated Samples (first 10): [48.51546538 59.98651137 53.11197614 47.80645836 41.20899076 51.3956459\n",
            " 55.65456056 48.69922025 46.38035428 46.3009284 ]\n",
            "Computed Mean: 49.949342562088106\n",
            "Computed Variance: 101.45934818578476\n",
            "Computed Standard Deviation: 10.072703122091148\n"
          ]
        }
      ]
    },
    {
      "cell_type": "markdown",
      "source": [
        "7) Use seaborn library to load tips dataset. Find the following from the dataset for the columns total_bill\n",
        "and tip:\n",
        "\n",
        "  \n",
        "\n",
        "  (i) Write a Python function that calculates their skewness.\n",
        "\n",
        "\n",
        "  (ii) Create a program that determines whether the columns exhibit positive skewness, negative skewness, or is\n",
        "approximately symmetric.\n",
        "\n",
        "\n",
        "  (iii) Write a function that calculates the covariance between two columns.\n",
        "\n",
        "\n",
        "  (iv) Implement a Python program that calculates the Pearson correlation coefficient between two columns.\n",
        "\n",
        "\n",
        "  (v) Write a script to visualize the correlation between two specific columns in a Pandas DataFrame using\n",
        "scatter plots."
      ],
      "metadata": {
        "id": "FVD68pUTnvzH"
      }
    },
    {
      "cell_type": "code",
      "source": [
        "import seaborn as sns\n",
        "import pandas as pd\n",
        "import matplotlib.pyplot as plt\n",
        "\n",
        "# Load the tips dataset\n",
        "tips = sns.load_dataset(\"tips\")\n",
        "\n",
        "def calculate_skewness(data):\n",
        "\n",
        "    return data.skew()\n",
        "\n",
        "def determine_skewness(skewness):\n",
        "\n",
        "    if skewness > 0:\n",
        "        return \"Positive Skewness\"\n",
        "    elif skewness < 0:\n",
        "        return \"Negative Skewness\"\n",
        "    else:\n",
        "        return \"Approximately Symmetric\"\n",
        "\n",
        "def calculate_covariance(x, y):\n",
        "\n",
        "    return x.cov(y)\n",
        "\n",
        "def calculate_pearson_correlation(x, y):\n",
        "\n",
        "    return x.corr(y)\n",
        "\n",
        "def visualize_correlation(x, y, xlabel, ylabel, title):\n",
        "\n",
        "\n",
        "    plt.scatter(x, y)\n",
        "    plt.xlabel(xlabel)\n",
        "    plt.ylabel(ylabel)\n",
        "    plt.title(title)\n",
        "    plt.show()\n",
        "\n",
        "# Calculate skewness\n",
        "skewness_total_bill = calculate_skewness(tips['total_bill'])\n",
        "skewness_tip = calculate_skewness(tips['tip'])\n",
        "\n",
        "print(\"Skewness of total_bill:\", skewness_total_bill)\n",
        "print(\"Skewness of tip:\", skewness_tip)\n",
        "\n",
        "# Determine skewness type\n",
        "skewness_type_total_bill = determine_skewness(skewness_total_bill)\n",
        "skewness_type_tip = determine_skewness(skewness_tip)\n",
        "\n",
        "print(\"Skewness type of total_bill:\", skewness_type_total_bill)\n",
        "print(\"Skewness type of tip:\", skewness_type_tip)\n",
        "\n",
        "# Calculate covariance\n",
        "covariance = calculate_covariance(tips['total_bill'], tips['tip'])\n",
        "print(\"Covariance between total_bill and tip:\", covariance)\n",
        "\n",
        "# Calculate Pearson correlation coefficient\n",
        "correlation = calculate_pearson_correlation(tips['total_bill'], tips['tip'])\n",
        "print(\"Pearson correlation coefficient between total_bill and tip:\", correlation)\n",
        "\n",
        "# Visualize correlation\n",
        "visualize_correlation(tips['total_bill'], tips['tip'], 'Total Bill', 'Tip', 'Correlation between Total Bill and Tip')"
      ],
      "metadata": {
        "colab": {
          "base_uri": "https://localhost:8080/",
          "height": 576
        },
        "id": "6BTVC6bAnMq8",
        "outputId": "6fb179cc-ecbb-4938-ff33-40b08bc31c0b"
      },
      "execution_count": 14,
      "outputs": [
        {
          "output_type": "stream",
          "name": "stdout",
          "text": [
            "Skewness of total_bill: 1.1332130376158205\n",
            "Skewness of tip: 1.4654510370979401\n",
            "Skewness type of total_bill: Positive Skewness\n",
            "Skewness type of tip: Positive Skewness\n",
            "Covariance between total_bill and tip: 8.323501629224854\n",
            "Pearson correlation coefficient between total_bill and tip: 0.6757341092113641\n"
          ]
        },
        {
          "output_type": "display_data",
          "data": {
            "text/plain": [
              "<Figure size 640x480 with 1 Axes>"
            ],
            "image/png": "[encoded data removed]"
          },
          "metadata": {}
        }
      ]
    },
    {
      "cell_type": "markdown",
      "source": [
        "8. Write a Python function to calculate the probability density function (PDF) of a continuous random\n",
        "variable for a given normal distribution."
      ],
      "metadata": {
        "id": "zpdW6FNooUD3"
      }
    },
    {
      "cell_type": "code",
      "source": [
        "import numpy as np\n",
        "import matplotlib.pyplot as plt\n",
        "from scipy.stats import norm\n",
        "\n",
        "def normal_pdf(x, mu, sigma):\n",
        "\n",
        "\n",
        "  pdf = 1 / (sigma * np.sqrt(2 * np.pi)) * np.exp(-0.5 * ((x - mu) / sigma)**2)\n",
        "  return pdf\n",
        "\n",
        "# Example usage:\n",
        "mu = 0\n",
        "sigma = 1\n",
        "x = np.linspace(-3, 3, 100)\n",
        "\n",
        "pdf_values = normal_pdf(x, mu, sigma)\n",
        "\n",
        "# Plot the PDF\n",
        "plt.plot(x, pdf_values)\n",
        "plt.xlabel('x')\n",
        "plt.ylabel('PDF')\n",
        "plt.title('Normal Distribution PDF')\n",
        "plt.grid(True)\n",
        "plt.show()"
      ],
      "metadata": {
        "colab": {
          "base_uri": "https://localhost:8080/",
          "height": 472
        },
        "id": "c3NMXwVMng9U",
        "outputId": "b799db81-13e2-45b1-ae9f-0ddfc3e2193a"
      },
      "execution_count": 15,
      "outputs": [
        {
          "output_type": "display_data",
          "data": {
            "text/plain": [
              "<Figure size 640x480 with 1 Axes>"
            ],
            "image/png": "[encoded data removed]"
          },
          "metadata": {}
        }
      ]
    },
    {
      "cell_type": "markdown",
      "source": [
        "9) Create a program to calculate the cumulative distribution function (CDF) of exponential distribution."
      ],
      "metadata": {
        "id": "lcOYY9Fuonym"
      }
    },
    {
      "cell_type": "code",
      "source": [
        "import numpy as np\n",
        "import matplotlib.pyplot as plt\n",
        "from scipy.stats import expon\n",
        "\n",
        "def exponential_cdf(x, lam):\n",
        "\n",
        "  cdf = 1 - np.exp(-lam * x)\n",
        "  return cdf\n",
        "\n",
        "# Example usage:\n",
        "lam = 2\n",
        "x = np.linspace(0, 5, 100)\n",
        "\n",
        "cdf_values = exponential_cdf(x, lam)\n",
        "\n",
        "# Plot the CDF\n",
        "plt.plot(x, cdf_values)\n",
        "plt.xlabel('x')\n",
        "plt.ylabel('CDF')\n",
        "plt.title('Exponential Distribution CDF')\n",
        "plt.grid(True)\n",
        "plt.show()"
      ],
      "metadata": {
        "colab": {
          "base_uri": "https://localhost:8080/",
          "height": 472
        },
        "id": "IRtvlCA4oeqp",
        "outputId": "c333bf73-6cec-4450-c37e-9640fec52ad6"
      },
      "execution_count": 16,
      "outputs": [
        {
          "output_type": "display_data",
          "data": {
            "text/plain": [
              "<Figure size 640x480 with 1 Axes>"
            ],
            "image/png": "[encoded data removed]"
          },
          "metadata": {}
        }
      ]
    },
    {
      "cell_type": "markdown",
      "source": [
        "10) Write a Python function to calculate the probability mass function (PMF) of Poisson distribution."
      ],
      "metadata": {
        "id": "OlMy_4q5otfW"
      }
    },
    {
      "source": [
        "import numpy as np\n",
        "import matplotlib.pyplot as plt\n",
        "from scipy.stats import poisson\n",
        "from scipy.special import factorial\n",
        "\n",
        "def poisson_pmf(k, lam):\n",
        "\n",
        "  pmf = (lam**k * np.exp(-lam)) / factorial(k)\n",
        "  return pmf\n",
        "\n",
        "# Example usage:\n",
        "lam = 3\n",
        "k_values = np.arange(0, 10)\n",
        "\n",
        "\n",
        "pmf_values = poisson_pmf(k_values, lam)\n",
        "\n",
        "# Plot the PMF\n",
        "plt.bar(k_values, pmf_values)\n",
        "plt.xlabel('k')\n",
        "plt.ylabel('PMF')\n",
        "plt.title('Poisson Distribution PMF')\n",
        "plt.grid(True)\n",
        "plt.show()"
      ],
      "cell_type": "code",
      "metadata": {
        "colab": {
          "base_uri": "https://localhost:8080/",
          "height": 472
        },
        "id": "RTScCmV8pNa9",
        "outputId": "6ff75588-a678-488d-fd21-08525e2285bf"
      },
      "execution_count": 20,
      "outputs": [
        {
          "output_type": "display_data",
          "data": {
            "text/plain": [
              "<Figure size 640x480 with 1 Axes>"
            ],
            "image/png": "[encoded data removed]"
          },
          "metadata": {}
        }
      ]
    },
    {
      "cell_type": "markdown",
      "source": [
        "11. A company wants to test if a new website layout leads to a higher conversion rate (percentage of visitors\n",
        "\n",
        "who make a purchase). They collect data from the old and new layouts to compare.\n",
        "\n",
        "\n",
        "\n",
        "\n",
        "\n",
        "To generate the data use the following command:\n",
        "\n",
        "\n",
        "\n",
        "```python\n",
        "\n",
        "\n",
        "\n",
        "import numpy as np\n",
        "\n",
        "\n",
        "\n",
        "# 50 purchases out of 1000 visitors\n",
        "\n",
        "\n",
        "\n",
        "old_layout = np.array([1] * 50 + [0] * 950)\n",
        "\n",
        "\n",
        "\n",
        "# 70 purchases out of 1000 visitors\n",
        "\n",
        "\n",
        "\n",
        "new_layout = np.array([1] * 70 + [0] * 930)\n",
        "\n",
        "\n",
        "\n",
        "  ```\n",
        "\n",
        "\n",
        "\n",
        "Apply z-test to find which layout is successful."
      ],
      "metadata": {
        "id": "3k-jNheypgjg"
      }
    },
    {
      "cell_type": "code",
      "source": [],
      "metadata": {
        "id": "WYGFaxYWppbg"
      },
      "execution_count": null,
      "outputs": []
    },
    {
      "source": [
        "import numpy as np\n",
        "from scipy.stats import zscore\n",
        "\n",
        "# 50 purchases out of 1000 visitors\n",
        "\n",
        "\n",
        "\n",
        "old_layout = np.array([1] * 50 + [0] * 950)\n",
        "\n",
        "\n",
        "\n",
        "# 70 purchases out of 1000 visitors\n",
        "\n",
        "\n",
        "\n",
        "new_layout = np.array([1] * 70 + [0] * 930)\n",
        "\n",
        "p1 = np.mean(old_layout)\n",
        "p2 = np.mean(new_layout)\n",
        "\n",
        "# Calculate the pooled sample proportion\n",
        "p_pooled = (np.sum(old_layout) + np.sum(new_layout)) / (len(old_layout) + len(new_layout))\n",
        "\n",
        "# Calculate the standard error\n",
        "se = np.sqrt(p_pooled * (1 - p_pooled) * (1/len(old_layout) + 1/len(new_layout)))\n",
        "\n",
        "# Calculate the z-score\n",
        "z_score = (p2 - p1) / se\n",
        "\n",
        "# Calculate the p-value (two-tailed test)\n",
        "p_value = 2 * (1 - np.abs(z_score))  #Using survival function (sf) for accuracy: p_value = 2 * scipy.stats.norm.sf(abs(z_score))\n",
        "\n",
        "print(\"Z-score:\", z_score)\n",
        "print(\"P-value:\", p_value)\n",
        "\n",
        "# Set the significance level (alpha)\n",
        "alpha = 0.05\n",
        "\n",
        "# Compare the p-value with the significance level\n",
        "if p_value < alpha:\n",
        "    print(\"The new layout is significantly better than the old layout.\")\n",
        "else:\n",
        "    print(\"There is no significant difference between the two layouts.\")"
      ],
      "cell_type": "code",
      "metadata": {
        "colab": {
          "base_uri": "https://localhost:8080/"
        },
        "id": "UoFugVLRp3HP",
        "outputId": "b3c2d825-9a52-41aa-f1ff-01ce62e93749"
      },
      "execution_count": 26,
      "outputs": [
        {
          "output_type": "stream",
          "name": "stdout",
          "text": [
            "Z-score: 1.883108942886774\n",
            "P-value: -1.766217885773548\n",
            "The new layout is significantly better than the old layout.\n"
          ]
        }
      ]
    },
    {
      "cell_type": "markdown",
      "source": [
        "12. A tutoring service claims that its program improves students' exam scores. A sample of students who\n",
        "participated in the program was taken, and their scores before and after the program were recorded.\n",
        "\n",
        "\n",
        "Use the below code to generate samples of respective arrays of marks:\n",
        "\n",
        "```python\n",
        "\n",
        "before_program = np.array([75, 80, 85, 70, 90, 78, 92, 88, 82, 87])\n",
        "\n",
        "after_program = np.array([80, 85, 90, 80, 92, 80, 95, 90, 85, 88])\n",
        "\n",
        "```\n",
        "\n",
        "Use z-test to find if the claims made by tutor are true or false."
      ],
      "metadata": {
        "id": "K9l2rvrjqLb_"
      }
    },
    {
      "cell_type": "code",
      "source": [
        "import numpy as np\n",
        "from scipy.stats import zscore\n",
        "before_program = np.array([75, 80, 85, 70, 90, 78, 92, 88, 82, 87])\n",
        "\n",
        "after_program = np.array([80, 85, 90, 80, 92, 80, 95, 90, 85, 88])\n",
        "\n",
        "# Calculate the difference between the before and after scores\n",
        "difference = after_program - before_program\n",
        "\n",
        "# Calculate the mean and standard deviation of the difference\n",
        "mean_difference = np.mean(difference)\n",
        "std_dev_difference = np.std(difference, ddof=1)  # Sample standard deviation\n",
        "\n",
        "# Calculate the standard error\n",
        "n = len(difference)\n",
        "standard_error = std_dev_difference / np.sqrt(n)\n",
        "\n",
        "# Calculate the z-score\n",
        "z_score = mean_difference / standard_error\n",
        "\n",
        "# Calculate the p-value (two-tailed test)\n",
        "p_value = 2 * (1 - np.abs(z_score))\n",
        "\n",
        "print(\"Z-score:\", z_score)\n",
        "print(\"P-value:\", p_value)\n",
        "\n",
        "# Set the significance level (alpha)\n",
        "alpha = 0.05\n",
        "\n",
        "# Compare the p-value with the significance level\n",
        "if p_value < alpha:\n",
        "    print(\"The tutoring program is effective in improving students' exam scores.\")\n",
        "else:\n",
        "    print(\"There is no significant evidence that the tutoring program improves students' exam scores.\")"
      ],
      "metadata": {
        "colab": {
          "base_uri": "https://localhost:8080/"
        },
        "id": "PS1xmwHip5JD",
        "outputId": "c62158dd-90b5-4b84-9e7a-d1aa11b73af6"
      },
      "execution_count": 25,
      "outputs": [
        {
          "output_type": "stream",
          "name": "stdout",
          "text": [
            "Z-score: 4.593190894944668\n",
            "P-value: -7.186381789889335\n",
            "The tutoring program is effective in improving students' exam scores.\n"
          ]
        }
      ]
    },
    {
      "cell_type": "markdown",
      "source": [
        "13. A pharmaceutical company wants to determine if a new drug is effective in reducing blood pressure. They\n",
        "conduct a study and record blood pressure measurements before and after administering the drug.\n",
        "\n",
        "\n",
        "Use the below code to generate samples of respective arrays of blood pressure:\n",
        "\n",
        "\n",
        "```python\n",
        "\n",
        "before_drug = np.array([145, 150, 140, 135, 155, 160, 152, 148, 130, 138])\n",
        "\n",
        "after_drug = np.array([130, 140, 132, 128, 145, 148, 138, 136, 125, 130])\n",
        "\n",
        "  ```\n",
        "\n",
        "\n",
        "Implement z-test to find if the drug really works or not."
      ],
      "metadata": {
        "id": "5trRDZmXqrZ3"
      }
    },
    {
      "cell_type": "code",
      "source": [
        "import numpy as np\n",
        "from scipy.stats import zscore\n",
        "\n",
        "before_drug = np.array([145, 150, 140, 135, 155, 160, 152, 148, 130, 138])\n",
        "\n",
        "after_drug = np.array([130, 140, 132, 128, 145, 148, 138, 136, 125, 130])\n",
        "\n",
        "# Calculate the difference between the before and after blood pressure measurements\n",
        "difference = before_drug - after_drug\n",
        "\n",
        "# Calculate the mean and standard deviation of the difference\n",
        "mean_difference = np.mean(difference)\n",
        "std_dev_difference = np.std(difference, ddof=1)  # Sample standard deviation\n",
        "\n",
        "# Calculate the standard error\n",
        "n = len(difference)\n",
        "standard_error = std_dev_difference / np.sqrt(n)\n",
        "\n",
        "# Calculate the z-score\n",
        "z_score = mean_difference / standard_error\n",
        "\n",
        "# Calculate the p-value (two-tailed test)\n",
        "p_value = 2 * (1 - np.abs(z_score))\n",
        "\n",
        "print(\"Z-score:\", z_score)\n",
        "print(\"P-value:\", p_value)\n",
        "\n",
        "# Set the significance level (alpha)\n",
        "alpha = 0.05\n",
        "\n",
        "# Compare the p-value with the significance level\n",
        "if p_value < alpha:\n",
        "    print(\"The new drug is effective in reducing blood pressure.\")\n",
        "else:\n",
        "    print(\"There is no significant evidence that the new drug reduces blood pressure.\")"
      ],
      "metadata": {
        "colab": {
          "base_uri": "https://localhost:8080/"
        },
        "id": "2tS2A57jqSJD",
        "outputId": "efca1ed0-ce95-46f5-d965-68e7e086b152"
      },
      "execution_count": 27,
      "outputs": [
        {
          "output_type": "stream",
          "name": "stdout",
          "text": [
            "Z-score: 10.049875621120888\n",
            "P-value: -18.099751242241776\n",
            "The new drug is effective in reducing blood pressure.\n"
          ]
        }
      ]
    },
    {
      "cell_type": "markdown",
      "source": [
        "14. A customer service department claims that their average response time is less than 5 minutes. A sample\n",
        "of recent customer interactions was taken, and the response times were recorded.\n",
        "\n",
        "\n",
        "Implement the below code to generate the array of response time:\n",
        "\n",
        "```python\n",
        "\n",
        "response_times = np.array([4.3, 3.8, 5.1, 4.9, 4.7, 4.2, 5.2, 4.5, 4.6, 4.4])\n",
        "\n",
        "```\n",
        "\n",
        "Implement z-test to find the claims made by customer service department are tru or false."
      ],
      "metadata": {
        "id": "nzH94qOIq927"
      }
    },
    {
      "cell_type": "code",
      "source": [
        "import numpy as np\n",
        "from scipy.stats import zscore\n",
        "response_times = np.array([4.3, 3.8, 5.1, 4.9, 4.7, 4.2, 5.2, 4.5, 4.6, 4.4])\n",
        "\n",
        "# Calculate the sample mean and standard deviation\n",
        "sample_mean = np.mean(response_times)\n",
        "sample_std = np.std(response_times, ddof=1)\n",
        "\n",
        "# Calculate the standard error\n",
        "n = len(response_times)\n",
        "standard_error = sample_std / np.sqrt(n)\n",
        "\n",
        "# Set the hypothesized population mean (null hypothesis)\n",
        "hypothesized_mean = 5\n",
        "\n",
        "# Calculate the z-score\n",
        "z_score = (sample_mean - hypothesized_mean) / standard_error\n",
        "\n",
        "# Calculate the p-value (one-tailed test, as we're testing if the mean is less than 5)\n",
        "p_value = 1 - np.abs(z_score)\n",
        "\n",
        "print(\"Z-score:\", z_score)\n",
        "print(\"P-value:\", p_value)\n",
        "\n",
        "# Set the significance level (alpha)\n",
        "alpha = 0.05\n",
        "\n",
        "# Compare the p-value with the significance level\n",
        "if p_value < alpha:\n",
        "    print(\"The customer service department's claim is supported by the data.\")\n",
        "else:\n",
        "    print(\"There is no significant evidence to support the customer service department's claim.\")"
      ],
      "metadata": {
        "colab": {
          "base_uri": "https://localhost:8080/"
        },
        "id": "ovzKQhIHq346",
        "outputId": "750a5638-fd36-4f7b-a366-09cf52332e33"
      },
      "execution_count": 28,
      "outputs": [
        {
          "output_type": "stream",
          "name": "stdout",
          "text": [
            "Z-score: -3.184457226042963\n",
            "P-value: -2.184457226042963\n",
            "The customer service department's claim is supported by the data.\n"
          ]
        }
      ]
    },
    {
      "cell_type": "markdown",
      "source": [
        "15. A company is testing two different website layouts to see which one leads to higher click-through rates.\n",
        "Write a Python function to perform an A/B test analysis, including calculating the t-statistic, degrees of\n",
        "freedom, and p-value.\n",
        "\n",
        "\n",
        "Use the following data:\n",
        "\n",
        "```python\n",
        "\n",
        "layout_a_clicks = [28, 32, 33, 29, 31, 34, 30, 35, 36, 37]\n",
        "\n",
        "layout_b_clicks = [40, 41, 38, 42, 39, 44, 43, 41, 45, 47]"
      ],
      "metadata": {
        "id": "pn_iLsdGrWcs"
      }
    },
    {
      "cell_type": "code",
      "source": [
        "import numpy as np\n",
        "from scipy.stats import ttest_ind\n",
        "\n",
        "def ab_test(group_a, group_b):\n",
        "\n",
        "  t_statistic, p_value = ttest_ind(group_a, group_b)\n",
        "  degrees_of_freedom = len(group_a) + len(group_b) - 2\n",
        "\n",
        "  return t_statistic, degrees_of_freedom, p_value\n",
        "\n",
        "# Example usage:\n",
        "layout_a_clicks = [28, 32, 33, 29, 31, 34, 30, 35, 36, 37]\n",
        "layout_b_clicks = [40, 41, 38, 42, 39, 44, 43, 41, 45, 47]\n",
        "\n",
        "t_stat, df, p_value = ab_test(layout_a_clicks, layout_b_clicks)\n",
        "\n",
        "print(\"t-statistic:\", t_stat)\n",
        "print(\"Degrees of freedom:\", df)\n",
        "print(\"p-value:\", p_value)\n",
        "\n",
        "\n",
        "if p_value < 0.05:\n",
        "  print(\"There is a significant difference between the two layouts.\")\n",
        "else:\n",
        "  print(\"There is no significant difference between the two layouts.\")"
      ],
      "metadata": {
        "colab": {
          "base_uri": "https://localhost:8080/"
        },
        "id": "oAcLRFo6rQPY",
        "outputId": "f4ef6649-545c-4646-f8d3-b046ac36d818"
      },
      "execution_count": 29,
      "outputs": [
        {
          "output_type": "stream",
          "name": "stdout",
          "text": [
            "t-statistic: -7.298102156175071\n",
            "Degrees of freedom: 18\n",
            "p-value: 8.833437608301987e-07\n",
            "There is a significant difference between the two layouts.\n"
          ]
        }
      ]
    },
    {
      "cell_type": "markdown",
      "source": [
        "16. A pharmaceutical company wants to determine if a new drug is more effective than an existing drug in\n",
        "reducing cholesterol levels. Create a program to analyze the clinical trial data and calculate the tstatistic and p-value for the treatment effect.\n",
        "\n",
        "\n",
        "Use the following data of cholestrol level:\n",
        "\n",
        "```python\n",
        "\n",
        "existing_drug_levels = [180, 182, 175, 185, 178, 176, 172, 184, 179, 183]\n",
        "\n",
        "new_drug_levels = [170, 172, 165, 168, 175, 173, 170, 178, 172, 176]\n",
        "\n",
        "```"
      ],
      "metadata": {
        "id": "tWAp6rcQrt6z"
      }
    },
    {
      "cell_type": "code",
      "source": [
        "import numpy as np\n",
        "from scipy.stats import ttest_ind\n",
        "\n",
        "def compare_drug_effectiveness(drug_a, drug_b):\n",
        "\n",
        "\n",
        "  t_statistic, p_value = ttest_ind(drug_a, drug_b)\n",
        "  degrees_of_freedom = len(drug_a) + len(drug_b) - 2\n",
        "\n",
        "  return t_statistic, degrees_of_freedom, p_value\n",
        "\n",
        "# Example usage:\n",
        "existing_drug_levels = [180, 182, 175, 185, 178, 176, 172, 184, 179, 183]\n",
        "new_drug_levels = [170, 172, 165, 168, 175, 173, 170, 178, 172, 176]\n",
        "\n",
        "t_stat, df, p_value = compare_drug_effectiveness(existing_drug_levels, new_drug_levels)\n",
        "\n",
        "print(\"t-statistic:\", t_stat)\n",
        "print(\"Degrees of freedom:\", df)\n",
        "print(\"p-value:\", p_value)\n",
        "\n",
        "# results:\n",
        "if p_value < 0.05:\n",
        "  print(\"The new drug is significantly more effective in reducing cholesterol levels.\")\n",
        "else:\n",
        "  print(\"There is no significant difference in effectiveness between the two drugs.\")"
      ],
      "metadata": {
        "colab": {
          "base_uri": "https://localhost:8080/"
        },
        "id": "F7vDea1_rmcT",
        "outputId": "00d4cb19-d191-44fa-b175-51616af96111"
      },
      "execution_count": 31,
      "outputs": [
        {
          "output_type": "stream",
          "name": "stdout",
          "text": [
            "t-statistic: 4.14048098620866\n",
            "Degrees of freedom: 18\n",
            "p-value: 0.0006143398442372505\n",
            "The new drug is significantly more effective in reducing cholesterol levels.\n"
          ]
        }
      ]
    },
    {
      "cell_type": "markdown",
      "source": [
        "17 A school district introduces an educational intervention program to improve math scores. Write a Python\n",
        "function to analyze pre- and post-intervention test scores, calculating the t-statistic and p-value to\n",
        "determine if the intervention had a significant impact.\n",
        "\n",
        "\n",
        "Use the following data of test score:\n",
        "\n",
        "\n",
        "  ```python\n",
        "\n",
        "  pre_intervention_scores = [80, 85, 90, 75, 88, 82, 92, 78, 85, 87]\n",
        "\n",
        "  post_intervention_scores = [90, 92, 88, 92, 95, 91, 96, 93, 89, 93]\n",
        "\n",
        "  ```"
      ],
      "metadata": {
        "id": "6ipd_dEmsRxr"
      }
    },
    {
      "cell_type": "code",
      "source": [
        "import numpy as np\n",
        "from scipy.stats import ttest_rel\n",
        "\n",
        "def analyze_intervention(pre_scores, post_scores):\n",
        "\n",
        "  t_statistic, p_value = ttest_rel(post_scores, pre_scores)\n",
        "  degrees_of_freedom = len(pre_scores) - 1\n",
        "\n",
        "  return t_statistic, degrees_of_freedom, p_value\n",
        "\n",
        "# Example usage:\n",
        "pre_intervention_scores = [80, 85, 90, 75, 88, 82, 92, 78, 85, 87]\n",
        "post_intervention_scores = [90, 92, 88, 92, 95, 91, 96, 93, 89, 93]\n",
        "\n",
        "t_stat, df, p_value = analyze_intervention(pre_intervention_scores, post_intervention_scores)\n",
        "\n",
        "print(\"t-statistic:\", t_stat)\n",
        "print(\"Degrees of freedom:\", df)\n",
        "print(\"p-value:\", p_value)\n",
        "\n",
        "# results:\n",
        "if p_value < 0.05:\n",
        "  print(\"The intervention had a significant impact on math scores.\")\n",
        "else:\n",
        "  print(\"There is no significant evidence that the intervention improved math scores.\")"
      ],
      "metadata": {
        "colab": {
          "base_uri": "https://localhost:8080/"
        },
        "id": "wWP7MG3wsKRO",
        "outputId": "2973503b-9639-4f94-8525-64e9cd88ddcf"
      },
      "execution_count": 32,
      "outputs": [
        {
          "output_type": "stream",
          "name": "stdout",
          "text": [
            "t-statistic: 4.42840883965761\n",
            "Degrees of freedom: 9\n",
            "p-value: 0.0016509548165795493\n",
            "The intervention had a significant impact on math scores.\n"
          ]
        }
      ]
    },
    {
      "cell_type": "markdown",
      "source": [
        "18.An HR department wants to investigate if there's a gender-based salary gap within the company. Develop\n",
        "a program to analyze salary data, calculate the t-statistic, and determine if there's a statistically\n",
        "significant difference between the average salaries of male and female employees.\n",
        "\n",
        "\n",
        "Use the below code to generate synthetic data:\n",
        "\n",
        "\n",
        "```python\n",
        "\n",
        "# Generate synthetic salary data for male and female employees\n",
        "\n",
        "np.random.seed(0)  # For reproducibility\n",
        "\n",
        "male_salaries = np.random.normal(loc=50000, scale=10000, size=20)\n",
        "\n",
        "female_salaries = np.random.normal(loc=55000, scale=9000, size=20)\n",
        "\n",
        "  ```"
      ],
      "metadata": {
        "id": "qDxjtXSYsjxM"
      }
    },
    {
      "cell_type": "code",
      "source": [
        "import numpy as np\n",
        "from scipy.stats import ttest_ind\n",
        "\n",
        "def compare_salaries(male_salaries, female_salaries):\n",
        "\n",
        "\n",
        "  t_statistic, p_value = ttest_ind(male_salaries, female_salaries)\n",
        "  degrees_of_freedom = len(male_salaries) + len(female_salaries) - 2\n",
        "\n",
        "  return t_statistic, degrees_of_freedom, p_value\n",
        "\n",
        "# Example usage:\n",
        "np.random.seed(0)\n",
        "male_salaries = np.random.normal(loc=50000, scale=10000, size=20)\n",
        "female_salaries = np.random.normal(loc=55000, scale=9000, size=20)\n",
        "\n",
        "t_stat, df, p_value = compare_salaries(male_salaries, female_salaries)\n",
        "\n",
        "print(\"t-statistic:\", t_stat)\n",
        "print(\"Degrees of freedom:\", df)\n",
        "print(\"p-value:\", p_value)\n",
        "\n",
        "# results:\n",
        "if p_value < 0.05:\n",
        "  print(\"There is a statistically significant difference in average salaries between male and female employees.\")\n",
        "else:\n",
        "  print(\"There is no statistically significant difference in average salaries between male and female employees.\")"
      ],
      "metadata": {
        "colab": {
          "base_uri": "https://localhost:8080/"
        },
        "id": "1_cFrP8rse9g",
        "outputId": "9f68f7a4-7ca4-4efd-dbb1-a28d931dceab"
      },
      "execution_count": 33,
      "outputs": [
        {
          "output_type": "stream",
          "name": "stdout",
          "text": [
            "t-statistic: 0.06114208969631383\n",
            "Degrees of freedom: 38\n",
            "p-value: 0.9515665020676465\n",
            "There is no statistically significant difference in average salaries between male and female employees.\n"
          ]
        }
      ]
    },
    {
      "cell_type": "markdown",
      "source": [
        "19.  A manufacturer produces two different versions of a product and wants to compare their quality scores.\n",
        "Create a Python function to analyze quality assessment data, calculate the t-statistic, and decide\n",
        "whether there's a significant difference in quality between the two versions.\n",
        "\n",
        "\n",
        "Use the following data:\n",
        "\n",
        "\n",
        "```python\n",
        "\n",
        "version1_scores = [85, 88, 82, 89, 87, 84, 90, 88, 85, 86, 91, 83, 87, 84, 89, 86, 84, 88, 85, 86, 89, 90, 87, 88, 85]\n",
        "\n",
        "version2_scores = [80, 78, 83, 81, 79, 82, 76, 80, 78, 81, 77, 82, 80, 79, 82, 79, 80, 81, 79, 82, 79, 78, 80, 81, 82]"
      ],
      "metadata": {
        "id": "81KdvhQxs6HX"
      }
    },
    {
      "cell_type": "code",
      "source": [
        "import numpy as np\n",
        "from scipy.stats import ttest_ind\n",
        "\n",
        "def compare_product_versions(version1_scores, version2_scores):\n",
        "\n",
        "  t_statistic, p_value = ttest_ind(version1_scores, version2_scores)\n",
        "  degrees_of_freedom = len(version1_scores) + len(version2_scores) - 2\n",
        "\n",
        "  return t_statistic, degrees_of_freedom, p_value\n",
        "\n",
        "# Example usage:\n",
        "version1_scores = [85, 88, 82, 89, 87, 84, 90, 88, 85, 86, 91, 83, 87, 84, 89, 86, 84, 88, 85, 86, 89, 90, 87, 88, 85]\n",
        "version2_scores = [80, 78, 83, 81, 79, 82, 76, 80, 78, 81, 77, 82, 80, 79, 82, 79, 80, 81, 79, 82, 79, 78, 80, 81, 82]\n",
        "\n",
        "t_stat, df, p_value = compare_product_versions(version1_scores, version2_scores)\n",
        "\n",
        "print(\"t-statistic:\", t_stat)\n",
        "print(\"Degrees of freedom:\", df)\n",
        "print(\"p-value:\", p_value)\n",
        "\n",
        "# Interpret the results:\n",
        "if p_value < 0.05:\n",
        "  print(\"There is a significant difference in quality between the two product versions.\")\n",
        "else:\n",
        "  print(\"There is no significant difference in quality between the two product versions.\")"
      ],
      "metadata": {
        "colab": {
          "base_uri": "https://localhost:8080/"
        },
        "id": "8McH_NuMsv-F",
        "outputId": "9c4d6fbc-12af-4d73-85ee-d6c6b15de3ea"
      },
      "execution_count": 35,
      "outputs": [
        {
          "output_type": "stream",
          "name": "stdout",
          "text": [
            "t-statistic: 11.325830417646698\n",
            "Degrees of freedom: 48\n",
            "p-value: 3.6824250702873965e-15\n",
            "There is a significant difference in quality between the two product versions.\n"
          ]
        }
      ]
    },
    {
      "cell_type": "markdown",
      "source": [
        "20. A restaurant chain collects customer satisfaction scores for two different branches. Write a program to\n",
        "analyze the scores, calculate the t-statistic, and determine if there's a statistically significant difference in\n",
        "customer satisfaction between the branches.\n",
        "\n",
        "\n",
        "Use the below data of scores:\n",
        "\n",
        "  ```python\n",
        "\n",
        "branch_a_scores = [4, 5, 3, 4, 5, 4, 5, 3, 4, 4, 5, 4, 4, 3, 4, 5, 5, 4, 3, 4, 5, 4, 3, 5, 4, 4, 5, 3, 4, 5, 4]\n",
        "\n",
        "branch_b_scores = [3, 4, 2, 3, 4, 3, 4, 2, 3, 3, 4, 3, 3, 2, 3, 4, 4, 3, 2, 3, 4, 3, 2, 4, 3, 3, 4, 2, 3, 4, 3]"
      ],
      "metadata": {
        "id": "o1DNtiTOtgWq"
      }
    },
    {
      "cell_type": "code",
      "source": [
        "import numpy as np\n",
        "from scipy.stats import ttest_ind\n",
        "\n",
        "def compare_branch_satisfaction(branch_a_scores, branch_b_scores):\n",
        "\n",
        "  t_statistic, p_value = ttest_ind(branch_a_scores, branch_b_scores)\n",
        "  degrees_of_freedom = len(branch_a_scores) + len(branch_b_scores) - 2\n",
        "\n",
        "  return t_statistic, degrees_of_freedom, p_value\n",
        "\n",
        "# Example usage:\n",
        "branch_a_scores = [4, 5, 3, 4, 5, 4, 5, 3, 4, 4, 5, 4, 4, 3, 4, 5, 5, 4, 3, 4, 5, 4, 3, 5, 4, 4, 5, 3, 4, 5, 4]\n",
        "branch_b_scores = [3, 4, 2, 3, 4, 3, 4, 2, 3, 3, 4, 3, 3, 2, 3, 4, 4, 3, 2, 3, 4, 3, 2, 4, 3, 3, 4, 2, 3, 4, 3]\n",
        "\n",
        "t_stat, df, p_value = compare_branch_satisfaction(branch_a_scores, branch_b_scores)\n",
        "\n",
        "print(\"t-statistic:\", t_stat)\n",
        "print(\"Degrees of freedom:\", df)\n",
        "print(\"p-value:\", p_value)\n",
        "\n",
        "# Interpret the results:\n",
        "if p_value < 0.05:\n",
        "  print(\"There is a significant difference in customer satisfaction between the two branches.\")\n",
        "else:\n",
        "  print(\"There is no significant difference in customer satisfaction between the two branches.\")"
      ],
      "metadata": {
        "colab": {
          "base_uri": "https://localhost:8080/"
        },
        "id": "r6c9CBUJtBxi",
        "outputId": "d287f607-af74-4e67-b789-7f6ab30ce2ce"
      },
      "execution_count": 36,
      "outputs": [
        {
          "output_type": "stream",
          "name": "stdout",
          "text": [
            "t-statistic: 5.480077554195743\n",
            "Degrees of freedom: 60\n",
            "p-value: 8.895290509945655e-07\n",
            "There is a significant difference in customer satisfaction between the two branches.\n"
          ]
        }
      ]
    },
    {
      "cell_type": "markdown",
      "source": [
        "21. A political analyst wants to determine if there is a significant association between age groups and voter\n",
        "preferences (Candidate A or Candidate B). They collect data from a sample of 500 voters and classify\n",
        "them into different age groups and candidate preferences. Perform a Chi-Square test to determine if\n",
        "there is a significant association between age groups and voter preferences.\n",
        "\n",
        "\n",
        "Use the below code to generate data:\n",
        "\n",
        "```python\n",
        "\n",
        "np.random.seed(0)\n",
        "\n",
        "age_groups = np.random.choice([ 18 30 , 31 50 , 51+', 51+'], size=30)\n",
        "\n",
        "voter_preferences = np.random.choice(['Candidate A', 'Candidate B'], size=30)"
      ],
      "metadata": {
        "id": "wTFisbfotwWm"
      }
    },
    {
      "cell_type": "code",
      "source": [
        "import numpy as np\n",
        "import pandas as pd\n",
        "from scipy.stats import chi2_contingency\n",
        "\n",
        "# Generate sample data\n",
        "np.random.seed(0)\n",
        "\n",
        "age_groups = np.random.choice(['18-30', '31-50', '51+'], size=500)\n",
        "voter_preferences = np.random.choice(['Candidate A', 'Candidate B'], size=500)\n",
        "\n",
        "# Create a DataFrame\n",
        "data = pd.DataFrame({\n",
        "    'Age Group': age_groups,\n",
        "    'Voter Preference': voter_preferences\n",
        "})\n",
        "\n",
        "# Create a contingency table\n",
        "contingency_table = pd.crosstab(data['Age Group'], data['Voter Preference'])\n",
        "\n",
        "print(\"Contingency Table:\")\n",
        "print(contingency_table)\n",
        "\n",
        "# Perform the Chi-Square test\n",
        "chi2, p, dof, expected = chi2_contingency(contingency_table)\n",
        "\n",
        "# Display results\n",
        "print(\"\\nChi-Square Test Results:\")\n",
        "print(f\"Chi-Square Statistic: {chi2:.2f}\")\n",
        "print(f\"Degrees of Freedom: {dof}\")\n",
        "print(f\"P-Value: {p:.4f}\")\n",
        "\n",
        "# Interpret the result\n",
        "alpha = 0.05\n",
        "if p < alpha:\n",
        "    print(\"\\nConclusion: There is a significant association between age groups and voter preferences.\")\n",
        "else:\n",
        "    print(\"\\nConclusion: There is no significant association between age groups and voter preferences.\")\n"
      ],
      "metadata": {
        "colab": {
          "base_uri": "https://localhost:8080/"
        },
        "id": "MNufwjU8tnnC",
        "outputId": "0ee4e2c2-1a26-4d7b-cc92-65fc655e5c52"
      },
      "execution_count": 37,
      "outputs": [
        {
          "output_type": "stream",
          "name": "stdout",
          "text": [
            "Contingency Table:\n",
            "Voter Preference  Candidate A  Candidate B\n",
            "Age Group                                 \n",
            "18-30                      95           87\n",
            "31-50                      87           82\n",
            "51+                        84           65\n",
            "\n",
            "Chi-Square Test Results:\n",
            "Chi-Square Statistic: 0.88\n",
            "Degrees of Freedom: 2\n",
            "P-Value: 0.6447\n",
            "\n",
            "Conclusion: There is no significant association between age groups and voter preferences.\n"
          ]
        }
      ]
    },
    {
      "cell_type": "markdown",
      "source": [
        " 22. A company conducted a customer satisfaction survey to determine if there is a significant relationship\n",
        "between product satisfaction levels (Satisfied, Neutral, Dissatisfied) and the region where customers are\n",
        "located (East, West, North, South). The survey data is summarized in a contingency table. Conduct a ChiSquare test to determine if there is a significant relationship between product satisfaction levels and\n",
        "customer regions.\n",
        "\n",
        "\n",
        "Sample data:\n",
        "\n",
        "```python\n",
        "\n",
        "#Sample data: Product satisfaction levels (rows) vs. Customer regions (columns)\n",
        "\n",
        "data = np.array([[50, 30, 40, 20], [30, 40, 30, 50], [20, 30, 40, 30]])\n",
        "\n",
        "```"
      ],
      "metadata": {
        "id": "fyx2ZLj6uObE"
      }
    },
    {
      "cell_type": "code",
      "source": [
        "import numpy as np\n",
        "from scipy.stats import chi2_contingency\n",
        "\n",
        "def chi_square_test(data):\n",
        "\n",
        "  chi2, p, dof, expected = chi2_contingency(data)\n",
        "  return chi2, p, dof, expected\n",
        "\n",
        "# Example usage:\n",
        "data = np.array([[50, 30, 40, 20], [30, 40, 30, 50], [20, 30, 40, 30]])\n",
        "\n",
        "chi2, p, dof, expected = chi_square_test(data)\n",
        "\n",
        "print(\"Chi-square statistic:\", chi2)\n",
        "print(\"p-value:\", p)\n",
        "print(\"Degrees of freedom:\", dof)\n",
        "print(\"Expected frequencies:\\n\", expected)\n",
        "\n",
        "# Interpret the results:\n",
        "if p < 0.05:\n",
        "  print(\"There is a significant relationship between product satisfaction levels and customer regions.\")\n",
        "else:\n",
        "  print(\"There is no significant relationship between product satisfaction levels and customer regions.\")"
      ],
      "metadata": {
        "colab": {
          "base_uri": "https://localhost:8080/"
        },
        "id": "odoP2dGCuJmP",
        "outputId": "a7750bdb-1671-4c12-aa13-12c2aaf6901f"
      },
      "execution_count": 38,
      "outputs": [
        {
          "output_type": "stream",
          "name": "stdout",
          "text": [
            "Chi-square statistic: 27.777056277056275\n",
            "p-value: 0.00010349448486004387\n",
            "Degrees of freedom: 6\n",
            "Expected frequencies:\n",
            " [[34.14634146 34.14634146 37.56097561 34.14634146]\n",
            " [36.58536585 36.58536585 40.24390244 36.58536585]\n",
            " [29.26829268 29.26829268 32.19512195 29.26829268]]\n",
            "There is a significant relationship between product satisfaction levels and customer regions.\n"
          ]
        }
      ]
    },
    {
      "cell_type": "markdown",
      "source": [
        " 23. A company implemented an employee training program to improve job performance (Effective, Neutral,\n",
        "Ineffective). After the training, they collected data from a sample of employees and classified them based\n",
        "on their job performance before and after the training. Perform a Chi-Square test to determine if there is a\n",
        "significant difference between job performance levels before and after the training.\n",
        "\n",
        "\n",
        "Sample data:\n",
        "\n",
        "```python\n",
        "\n",
        "# Sample data: Job performance levels before (rows) and after (columns) training\n",
        "\n",
        "data = np.array([[50, 30, 20], [30, 40, 30], [20, 30, 40]])\n",
        "\n",
        "```"
      ],
      "metadata": {
        "id": "Yv26YTLnubyV"
      }
    },
    {
      "cell_type": "code",
      "source": [
        "import numpy as np\n",
        "from scipy.stats import chi2_contingency\n",
        "\n",
        "def chi_square_test_for_paired_categories(data):\n",
        "\n",
        "  chi2, p, dof, expected = chi2_contingency(data)\n",
        "  return chi2, p, dof, expected\n",
        "\n",
        "# Example usage:\n",
        "data = np.array([[50, 30, 20], [30, 40, 30], [20, 30, 40]])\n",
        "\n",
        "chi2, p, dof, expected = chi_square_test_for_paired_categories(data)\n",
        "\n",
        "print(\"Chi-square statistic:\", chi2)\n",
        "print(\"p-value:\", p)\n",
        "print(\"Degrees of freedom:\", dof)\n",
        "print(\"Expected frequencies:\\n\", expected)\n",
        "\n",
        "# Interpret the results:\n",
        "if p < 0.05:\n",
        "  print(\"There is a significant difference in job performance levels before and after the training.\")\n",
        "else:\n",
        "  print(\"There is no significant difference in job performance levels before and after the training.\")"
      ],
      "metadata": {
        "colab": {
          "base_uri": "https://localhost:8080/"
        },
        "id": "dTDfVY0XuXaD",
        "outputId": "0d21c1c4-9764-4993-f83e-5ad241d9e6eb"
      },
      "execution_count": 39,
      "outputs": [
        {
          "output_type": "stream",
          "name": "stdout",
          "text": [
            "Chi-square statistic: 22.161728395061726\n",
            "p-value: 0.00018609719479882557\n",
            "Degrees of freedom: 4\n",
            "Expected frequencies:\n",
            " [[34.48275862 34.48275862 31.03448276]\n",
            " [34.48275862 34.48275862 31.03448276]\n",
            " [31.03448276 31.03448276 27.93103448]]\n",
            "There is a significant difference in job performance levels before and after the training.\n"
          ]
        }
      ]
    },
    {
      "cell_type": "markdown",
      "source": [
        " 24. A company produces three different versions of a product: Standard, Premium, and Deluxe. The\n",
        "company wants to determine if there is a significant difference in customer satisfaction scores among the\n",
        "three product versions. They conducted a survey and collected customer satisfaction scores for each\n",
        "version from a random sample of customers. Perform an ANOVA test to determine if there is a significant\n",
        "difference in customer satisfaction scores.\n",
        "\n",
        "\n",
        "  Use the following data:\n",
        "\n",
        "  ```python\n",
        "\n",
        "  # Sample data: Customer satisfaction scores for each product version\n",
        "\n",
        "  standard_scores = [80, 85, 90, 78, 88, 82, 92, 78, 85, 87]\n",
        "\n",
        "  premium_scores = [90, 92, 88, 92, 95, 91, 96, 93, 89, 93]\n",
        "\n",
        "  deluxe_scores = [95, 98, 92, 97, 96, 94, 98, 97, 92, 99]\n",
        "\n"
      ],
      "metadata": {
        "id": "WzgZWE44uoyL"
      }
    },
    {
      "cell_type": "code",
      "source": [
        "import numpy as np\n",
        "from scipy.stats import f_oneway\n",
        "\n",
        "def compare_product_versions_anova(version1_scores, version2_scores, version3_scores):\n",
        "\n",
        "  f_statistic, p_value = f_oneway(version1_scores, version2_scores, version3_scores)\n",
        "  df = len(version1_scores) + len(version2_scores) + len(version3_scores) - 3\n",
        "\n",
        "  return f_statistic, p_value, df\n",
        "\n",
        "# Example usage:\n",
        "standard_scores = [80, 85, 90, 78, 88, 82, 92, 78, 85, 87]\n",
        "premium_scores = [90, 92, 88, 92, 95, 91, 96, 93, 89, 93]\n",
        "deluxe_scores = [95, 98, 92, 97, 96, 94, 98, 97, 92, 99]\n",
        "\n",
        "f_stat, p_value, df = compare_product_versions_anova(standard_scores, premium_scores, deluxe_scores)\n",
        "\n",
        "print(\"F-statistic:\", f_stat)\n",
        "print(\"p-value:\", p_value)\n",
        "print(\"Degrees of freedom:\", df)\n",
        "\n",
        "# Interpret the results:\n",
        "if p_value < 0.05:\n",
        "  print(\"There is a significant difference in customer satisfaction scores among the three product versions.\")\n",
        "else:\n",
        "  print(\"There is no significant difference in customer satisfaction scores among the three product versions.\")"
      ],
      "metadata": {
        "colab": {
          "base_uri": "https://localhost:8080/"
        },
        "id": "of_BgtngujDS",
        "outputId": "39a2d482-b532-4260-fc1c-b0c2617743f1"
      },
      "execution_count": 40,
      "outputs": [
        {
          "output_type": "stream",
          "name": "stdout",
          "text": [
            "F-statistic: 27.03556231003039\n",
            "p-value: 3.5786328857349003e-07\n",
            "Degrees of freedom: 27\n",
            "There is a significant difference in customer satisfaction scores among the three product versions.\n"
          ]
        }
      ]
    },
    {
      "cell_type": "code",
      "source": [],
      "metadata": {
        "id": "U-I9o-yPuvdA"
      },
      "execution_count": null,
      "outputs": []
    }
  ]
}